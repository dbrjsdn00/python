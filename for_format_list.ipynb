{
 "cells": [
  {
   "cell_type": "markdown",
   "metadata": {},
   "source": [
    "for_format_list"
   ]
  },
  {
   "cell_type": "code",
   "execution_count": null,
   "metadata": {
    "scrolled": true
   },
   "outputs": [],
   "source": [
    "s = '{} {} {}'\n",
    "pr = s.format('ㅇㅇ', 'ㅇㅇ', 'ㅇㅇ')\n",
    "print(pr)"
   ]
  },
  {
   "cell_type": "code",
   "execution_count": null,
   "metadata": {
    "scrolled": false
   },
   "outputs": [],
   "source": [
    "s='{}는 {}와 {}를 좋아함'\n",
    "pr=s.format('건우','건우','건우')\n",
    "print(pr)"
   ]
  },
  {
   "cell_type": "code",
   "execution_count": null,
   "metadata": {
    "scrolled": false
   },
   "outputs": [],
   "source": [
    "s='{}는 {}번이고 {}대에 감'\n",
    "pr=s.format('건우', 30209,'청화')\n",
    "print(pr)"
   ]
  },
  {
   "cell_type": "markdown",
   "metadata": {},
   "source": [
    "## [문제] 햄버거 1개는 4달라"
   ]
  },
  {
   "cell_type": "code",
   "execution_count": null,
   "metadata": {
    "scrolled": true
   },
   "outputs": [],
   "source": [
    "s='{} {}개는 {}달라'\n",
    "pr=s.format('햄버거', 1, 4)\n",
    "print(pr)"
   ]
  },
  {
   "cell_type": "code",
   "execution_count": null,
   "metadata": {
    "scrolled": true
   },
   "outputs": [],
   "source": [
    "food='햄버거'\n",
    "num=2\n",
    "price=num*4\n",
    "s='{} {}개는 {}달라'\n",
    "pr=s.format(food, num, s='{} {}개는 {}달라'\n",
    "pr=s.format('햄버거', 1, 4)\n",
    "print(pr)s='{} {}개는 {}달라'\n",
    "pr=s.format('햄버거', 1, 4)\n",
    "print(pr)price)\n",
    "print(pr)"
   ]
  },
  {
   "cell_type": "code",
   "execution_count": null,
   "metadata": {
    "scrolled": true
   },
   "outputs": [],
   "source": [
    "food=input('메뉴입력 = ')\n",
    "num=int(input('개수입력 = '))\n",
    "price=num*4\n",
    "s='{} {}개는 {}달라'\n",
    "pr=s.format(food, num, price)\n",
    "print(pr)"
   ]
  },
  {
   "cell_type": "code",
   "execution_count": null,
   "metadata": {
    "scrolled": true
   },
   "outputs": [],
   "source": [
    "menu=list(map(int,(input('햄버거 개수와 가격 = ').split())))"
   ]
  },
  {
   "cell_type": "code",
   "execution_count": null,
   "metadata": {},
   "outputs": [],
   "source": [
    "type(menu)"
   ]
  },
  {
   "cell_type": "code",
   "execution_count": null,
   "metadata": {},
   "outputs": [],
   "source": [
    "price=menu[0]*menu[1]\n",
    "s='햄버거 {}개는 {}달라'\n",
    "pr=s.format(menu[0], price)\n",
    "print(pr)"
   ]
  },
  {
   "cell_type": "code",
   "execution_count": null,
   "metadata": {},
   "outputs": [],
   "source": [
    "stu = '%s %d학년 %s'\n",
    "pr = stu%('인천정보산업고등학교',3,'유건우')\n",
    "print(pr)"
   ]
  },
  {
   "cell_type": "code",
   "execution_count": null,
   "metadata": {},
   "outputs": [],
   "source": [
    "juso = '        인천시 부평구 십정동   '"
   ]
  },
  {
   "cell_type": "code",
   "execution_count": null,
   "metadata": {},
   "outputs": [],
   "source": [
    "type(juso), len(juso)"
   ]
  },
  {
   "cell_type": "code",
   "execution_count": null,
   "metadata": {},
   "outputs": [],
   "source": [
    "juso.strip()"
   ]
  },
  {
   "cell_type": "code",
   "execution_count": null,
   "metadata": {},
   "outputs": [],
   "source": [
    "add= juso.strip()"
   ]
  },
  {
   "cell_type": "code",
   "execution_count": null,
   "metadata": {},
   "outputs": [],
   "source": [
    "juso"
   ]
  },
  {
   "cell_type": "code",
   "execution_count": null,
   "metadata": {},
   "outputs": [],
   "source": [
    "add, len(add)"
   ]
  },
  {
   "cell_type": "code",
   "execution_count": null,
   "metadata": {},
   "outputs": [],
   "source": [
    "add.split()"
   ]
  },
  {
   "cell_type": "code",
   "execution_count": null,
   "metadata": {},
   "outputs": [],
   "source": [
    "add.startswith('인천')"
   ]
  },
  {
   "cell_type": "code",
   "execution_count": null,
   "metadata": {},
   "outputs": [],
   "source": [
    "add.endswith('구월동')"
   ]
  },
  {
   "cell_type": "raw",
   "metadata": {},
   "source": [
    "if 조건식:\n",
    "    실행문1\n",
    "else:\n",
    "    실행문2"
   ]
  },
  {
   "cell_type": "code",
   "execution_count": null,
   "metadata": {},
   "outputs": [],
   "source": [
    "num=10\n",
    "if num==10:\n",
    "    print('숫자는 10')\n",
    "else:\n",
    "    print('숫자는 10이 아님')"
   ]
  },
  {
   "cell_type": "code",
   "execution_count": null,
   "metadata": {},
   "outputs": [],
   "source": [
    "num=10\n",
    "if num%2==0:\n",
    "    print('짝수')\n",
    "else:\n",
    "    print('홀수')"
   ]
  },
  {
   "cell_type": "markdown",
   "metadata": {},
   "source": [
    "## [문제]입력을 받아서 짝수(펭수)인지 홀수(워크맨)인지 알려줌"
   ]
  },
  {
   "cell_type": "code",
   "execution_count": null,
   "metadata": {},
   "outputs": [],
   "source": [
    "num=int(input())\n",
    "if num%2==0:\n",
    "    print('펭수')\n",
    "else:\n",
    "    print('워크맨')"
   ]
  },
  {
   "cell_type": "code",
   "execution_count": null,
   "metadata": {},
   "outputs": [],
   "source": [
    "sum=0\n",
    "for i in range(20, 31) :\n",
    "    if i%2 !=0 :\n",
    "        sum+=i\n",
    "        print(i)\n",
    "print('합계 : ', sum)"
   ]
  },
  {
   "cell_type": "raw",
   "metadata": {},
   "source": [
    "[문제 만들기]\n",
    "-for, if\n",
    "\n",
    "id입력 후 id가 같으면 '안녕하세요. 회원님^^', 틀리면 'id를 확인하주십시오.' 출력"
   ]
  },
  {
   "cell_type": "code",
   "execution_count": 1,
   "metadata": {},
   "outputs": [
    {
     "name": "stdout",
     "output_type": "stream",
     "text": [
      "id입력 : dbrjsdn00\n",
      "안녕하세요. 회원님^^\n"
     ]
    }
   ],
   "source": [
    "myid = 'dbrjsdn00'\n",
    "id = input('id입력 : ')\n",
    "if id==myid:\n",
    "    print('안녕하세요. 회원님^^')\n",
    "else :\n",
    "    print('id를 확인해주십시오.')"
   ]
  }
 ],
 "metadata": {
  "kernelspec": {
   "display_name": "Python 3",
   "language": "python",
   "name": "python3"
  },
  "language_info": {
   "codemirror_mode": {
    "name": "ipython",
    "version": 3
   },
   "file_extension": ".py",
   "mimetype": "text/x-python",
   "name": "python",
   "nbconvert_exporter": "python",
   "pygments_lexer": "ipython3",
   "version": "3.7.4"
  }
 },
 "nbformat": 4,
 "nbformat_minor": 2
}
