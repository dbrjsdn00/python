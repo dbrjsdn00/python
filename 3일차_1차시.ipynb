{
  "nbformat": 4,
  "nbformat_minor": 0,
  "metadata": {
    "colab": {
      "name": "3일차_1차시.ipynb",
      "provenance": [],
      "authorship_tag": "ABX9TyNKbolFv9mEs+0A2rm+hT2p",
      "include_colab_link": true
    },
    "kernelspec": {
      "name": "python3",
      "display_name": "Python 3"
    }
  },
  "cells": [
    {
      "cell_type": "markdown",
      "metadata": {
        "id": "view-in-github",
        "colab_type": "text"
      },
      "source": [
        "<a href=\"https://colab.research.google.com/github/dbrjsdn00/python/blob/master/3%EC%9D%BC%EC%B0%A8_1%EC%B0%A8%EC%8B%9C.ipynb\" target=\"_parent\"><img src=\"https://colab.research.google.com/assets/colab-badge.svg\" alt=\"Open In Colab\"/></a>"
      ]
    },
    {
      "cell_type": "markdown",
      "metadata": {
        "id": "DmPYJBwn4PkJ",
        "colab_type": "text"
      },
      "source": [
        "**Data Type Dictionary**\n",
        "\n",
        "\n",
        "---\n",
        "\n",
        "dic = {1:'유건우', 2:'안준혁', 3:30209}\n",
        "\n",
        "---\n",
        "\n"
      ]
    },
    {
      "cell_type": "code",
      "metadata": {
        "id": "PWL0wP5P4oPM",
        "colab_type": "code",
        "colab": {}
      },
      "source": [
        "dic = {'응':'유건우', 2:'안준혁', 3:30209}"
      ],
      "execution_count": 0,
      "outputs": []
    },
    {
      "cell_type": "code",
      "metadata": {
        "id": "O5pFL7oY4zw_",
        "colab_type": "code",
        "outputId": "7b178338-37ff-4b6e-db5a-16257a16e0b5",
        "colab": {
          "base_uri": "https://localhost:8080/",
          "height": 35
        }
      },
      "source": [
        "dic['응'], dic[2], dic[3]"
      ],
      "execution_count": 0,
      "outputs": [
        {
          "output_type": "execute_result",
          "data": {
            "text/plain": [
              "('유건우', '안준혁', 30209)"
            ]
          },
          "metadata": {
            "tags": []
          },
          "execution_count": 29
        }
      ]
    },
    {
      "cell_type": "code",
      "metadata": {
        "id": "SHn6eZni7DFE",
        "colab_type": "code",
        "outputId": "4d1ef862-6498-49e3-a0a7-dc0432ca6fbe",
        "colab": {
          "base_uri": "https://localhost:8080/",
          "height": 35
        }
      },
      "source": [
        "dic.get('응')"
      ],
      "execution_count": 0,
      "outputs": [
        {
          "output_type": "execute_result",
          "data": {
            "text/plain": [
              "'유건우'"
            ]
          },
          "metadata": {
            "tags": []
          },
          "execution_count": 32
        }
      ]
    },
    {
      "cell_type": "code",
      "metadata": {
        "id": "lC4WVVIr7MsU",
        "colab_type": "code",
        "outputId": "c8dd3680-0096-4e68-d506-5e4b7540f3ef",
        "colab": {
          "base_uri": "https://localhost:8080/",
          "height": 35
        }
      },
      "source": [
        "dic.values()"
      ],
      "execution_count": 0,
      "outputs": [
        {
          "output_type": "execute_result",
          "data": {
            "text/plain": [
              "dict_values(['유건우', '안준혁', 30209])"
            ]
          },
          "metadata": {
            "tags": []
          },
          "execution_count": 23
        }
      ]
    },
    {
      "cell_type": "code",
      "metadata": {
        "id": "diXDir6M7e-Q",
        "colab_type": "code",
        "outputId": "c9160191-b873-4185-9305-e9de27a2e19a",
        "colab": {
          "base_uri": "https://localhost:8080/",
          "height": 35
        }
      },
      "source": [
        "dic.items()"
      ],
      "execution_count": 0,
      "outputs": [
        {
          "output_type": "execute_result",
          "data": {
            "text/plain": [
              "dict_items([('응', '유건우'), (2, '안준혁'), (3, 30209)])"
            ]
          },
          "metadata": {
            "tags": []
          },
          "execution_count": 33
        }
      ]
    },
    {
      "cell_type": "code",
      "metadata": {
        "id": "HG1Yyayh7kCT",
        "colab_type": "code",
        "outputId": "85fec92e-082b-42b2-fb08-353a5e1cba0b",
        "colab": {
          "base_uri": "https://localhost:8080/",
          "height": 35
        }
      },
      "source": [
        "dic.keys()"
      ],
      "execution_count": 0,
      "outputs": [
        {
          "output_type": "execute_result",
          "data": {
            "text/plain": [
              "dict_keys(['응', 2, 3])"
            ]
          },
          "metadata": {
            "tags": []
          },
          "execution_count": 34
        }
      ]
    },
    {
      "cell_type": "code",
      "metadata": {
        "id": "Bvn5iNSn55tG",
        "colab_type": "code",
        "outputId": "cd4813e5-c8d8-4e2c-8d5f-66faeb51fdad",
        "colab": {
          "base_uri": "https://localhost:8080/",
          "height": 35
        }
      },
      "source": [
        "a='인천정보산업고등학교'\n",
        "type(a)"
      ],
      "execution_count": 0,
      "outputs": [
        {
          "output_type": "execute_result",
          "data": {
            "text/plain": [
              "str"
            ]
          },
          "metadata": {
            "tags": []
          },
          "execution_count": 35
        }
      ]
    },
    {
      "cell_type": "code",
      "metadata": {
        "id": "XyollgmI5-PH",
        "colab_type": "code",
        "outputId": "931282f1-ec82-43b0-ccdb-2781525f7c97",
        "colab": {
          "base_uri": "https://localhost:8080/",
          "height": 35
        }
      },
      "source": [
        "type(dic)"
      ],
      "execution_count": 0,
      "outputs": [
        {
          "output_type": "execute_result",
          "data": {
            "text/plain": [
              "dict"
            ]
          },
          "metadata": {
            "tags": []
          },
          "execution_count": 36
        }
      ]
    },
    {
      "cell_type": "code",
      "metadata": {
        "id": "MoekGsfI6D9M",
        "colab_type": "code",
        "outputId": "1fd88a71-29cd-468f-9c7f-88bc8962596f",
        "colab": {
          "base_uri": "https://localhost:8080/",
          "height": 35
        }
      },
      "source": [
        "b=[1,2,3,4,5]\n",
        "type(b)\n",
        "b[0]=8\n",
        "b"
      ],
      "execution_count": 0,
      "outputs": [
        {
          "output_type": "execute_result",
          "data": {
            "text/plain": [
              "[8, 2, 3, 4, 5]"
            ]
          },
          "metadata": {
            "tags": []
          },
          "execution_count": 37
        }
      ]
    },
    {
      "cell_type": "code",
      "metadata": {
        "id": "z5XmLq8Z6e_W",
        "colab_type": "code",
        "outputId": "c135a97c-b5c0-4894-e16d-0f67024feac2",
        "colab": {
          "base_uri": "https://localhost:8080/",
          "height": 226
        }
      },
      "source": [
        "c=1,2,3,4,5\n",
        "type(c)\n",
        "c[0]=8\n",
        "c"
      ],
      "execution_count": 0,
      "outputs": [
        {
          "output_type": "error",
          "ename": "TypeError",
          "evalue": "ignored",
          "traceback": [
            "\u001b[0;31m---------------------------------------------------------------------------\u001b[0m",
            "\u001b[0;31mTypeError\u001b[0m                                 Traceback (most recent call last)",
            "\u001b[0;32m<ipython-input-38-626f53c3d2c6>\u001b[0m in \u001b[0;36m<module>\u001b[0;34m()\u001b[0m\n\u001b[1;32m      1\u001b[0m \u001b[0mc\u001b[0m\u001b[0;34m=\u001b[0m\u001b[0;36m1\u001b[0m\u001b[0;34m,\u001b[0m\u001b[0;36m2\u001b[0m\u001b[0;34m,\u001b[0m\u001b[0;36m3\u001b[0m\u001b[0;34m,\u001b[0m\u001b[0;36m4\u001b[0m\u001b[0;34m,\u001b[0m\u001b[0;36m5\u001b[0m\u001b[0;34m\u001b[0m\u001b[0;34m\u001b[0m\u001b[0m\n\u001b[1;32m      2\u001b[0m \u001b[0mtype\u001b[0m\u001b[0;34m(\u001b[0m\u001b[0mc\u001b[0m\u001b[0;34m)\u001b[0m\u001b[0;34m\u001b[0m\u001b[0;34m\u001b[0m\u001b[0m\n\u001b[0;32m----> 3\u001b[0;31m \u001b[0mc\u001b[0m\u001b[0;34m[\u001b[0m\u001b[0;36m0\u001b[0m\u001b[0;34m]\u001b[0m\u001b[0;34m=\u001b[0m\u001b[0;36m8\u001b[0m\u001b[0;34m\u001b[0m\u001b[0;34m\u001b[0m\u001b[0m\n\u001b[0m\u001b[1;32m      4\u001b[0m \u001b[0mc\u001b[0m\u001b[0;34m\u001b[0m\u001b[0;34m\u001b[0m\u001b[0m\n",
            "\u001b[0;31mTypeError\u001b[0m: 'tuple' object does not support item assignment"
          ]
        }
      ]
    },
    {
      "cell_type": "markdown",
      "metadata": {
        "id": "3FYGdEzQ8BM3",
        "colab_type": "text"
      },
      "source": [
        "#**문제풀이**\n",
        "\n",
        "\n",
        "---\n",
        "[문제1]'*' 문자를 100번 출력\n"
      ]
    },
    {
      "cell_type": "code",
      "metadata": {
        "id": "qTdVZzCk93jk",
        "colab_type": "code",
        "outputId": "2963f3c5-47db-47da-c41a-c8d280f52fa0",
        "colab": {
          "base_uri": "https://localhost:8080/",
          "height": 35
        }
      },
      "source": [
        "print('*'*100)"
      ],
      "execution_count": 0,
      "outputs": [
        {
          "output_type": "stream",
          "text": [
            "****************************************************************************************************\n"
          ],
          "name": "stdout"
        }
      ]
    },
    {
      "cell_type": "markdown",
      "metadata": {
        "id": "nWbDI356-oz0",
        "colab_type": "text"
      },
      "source": [
        "[문제2]input() 내장 함수를 이용하여 id에 입력"
      ]
    },
    {
      "cell_type": "code",
      "metadata": {
        "id": "BBCPuoDH-MF5",
        "colab_type": "code",
        "outputId": "10f5b267-1b73-4829-d3ad-8a5bd1ffb4ee",
        "colab": {
          "base_uri": "https://localhost:8080/",
          "height": 35
        }
      },
      "source": [
        "type(id)"
      ],
      "execution_count": 0,
      "outputs": [
        {
          "output_type": "execute_result",
          "data": {
            "text/plain": [
              "str"
            ]
          },
          "metadata": {
            "tags": []
          },
          "execution_count": 44
        }
      ]
    },
    {
      "cell_type": "markdown",
      "metadata": {
        "id": "LPGKhd___EDw",
        "colab_type": "text"
      },
      "source": [
        "[문제3]id님! 안녕하세요 출력\n",
        "\n",
        "> 들여쓴 블록\n",
        "\n"
      ]
    },
    {
      "cell_type": "code",
      "metadata": {
        "id": "Rwo7-rH6988S",
        "colab_type": "code",
        "outputId": "5fdc4b48-86de-46c1-f911-504887343dc2",
        "colab": {
          "base_uri": "https://localhost:8080/",
          "height": 71
        }
      },
      "source": [
        "id=input('id를 입력 ')\n",
        "print(id+'님! 안녕하세요')\n",
        "print(id,'님! 안녕하세요')"
      ],
      "execution_count": 45,
      "outputs": [
        {
          "output_type": "stream",
          "text": [
            "id를 입력 유건우\n",
            "유건우님! 안녕하세요\n",
            "유건우 님! 안녕하세요\n"
          ],
          "name": "stdout"
        }
      ]
    },
    {
      "cell_type": "markdown",
      "metadata": {
        "id": "R-zPi61BFLA1",
        "colab_type": "text"
      },
      "source": [
        "[문제3] 나의 나이를 입력받아 변수(gap) 환갑이되는 나이는 2032년 입니다 라고 출력"
      ]
    },
    {
      "cell_type": "code",
      "metadata": {
        "id": "7yS2erWkFIOy",
        "colab_type": "code",
        "colab": {
          "base_uri": "https://localhost:8080/",
          "height": 53
        },
        "outputId": "4aac91c7-22b4-4c7d-c1d9-c939cfa72baf"
      },
      "source": [
        "gap=input('태어난 년도는 ')\n",
        "print('환갑이 되는 년도는',int(gap)+60, '년')"
      ],
      "execution_count": 51,
      "outputs": [
        {
          "output_type": "stream",
          "text": [
            "태어난 년도는 2002\n",
            "환갑이 되는 년도는 2062 년\n"
          ],
          "name": "stdout"
        }
      ]
    },
    {
      "cell_type": "markdown",
      "metadata": {
        "id": "VX6StERTGzV_",
        "colab_type": "text"
      },
      "source": [
        "[문제4]두개의 숫자를 입력받아 **,%,/,//\n",
        "\n",
        "\n",
        "```\n",
        "a,b=input('두개의 숫자 입력').split()\n",
        "\n"
      ]
    },
    {
      "cell_type": "code",
      "metadata": {
        "id": "uUB3qUOOHE98",
        "colab_type": "code",
        "colab": {
          "base_uri": "https://localhost:8080/",
          "height": 125
        },
        "outputId": "0134f840-6224-49b8-8d6e-743a3f9a821d"
      },
      "source": [
        "a = input('두개의 숫자 입력').split()\n",
        "b = int(a[0])\n",
        "c = int(a[1])\n",
        "print(\"첫번째 입력숫자\",b, \"두반째 입력숫자\",c)\n",
        "print(b**c)\n",
        "print(b%c)\n",
        "print(b/c)\n",
        "print(b//c)"
      ],
      "execution_count": 54,
      "outputs": [
        {
          "output_type": "stream",
          "text": [
            "두개의 숫자 입력1 2\n",
            "첫번째 입력숫자 1 두반째 입력숫자 2\n",
            "1\n",
            "1\n",
            "0.5\n",
            "0\n"
          ],
          "name": "stdout"
        }
      ]
    }
  ]
}