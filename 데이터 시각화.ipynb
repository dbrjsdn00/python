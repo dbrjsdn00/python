{
 "cells": [
  {
   "cell_type": "markdown",
   "metadata": {},
   "source": [
    "## 시각화 30209 유건우"
   ]
  },
  {
   "cell_type": "markdown",
   "metadata": {},
   "source": [
    "### 데이터 만들기"
   ]
  },
  {
   "cell_type": "code",
   "execution_count": 6,
   "metadata": {},
   "outputs": [],
   "source": [
    "import matplotlib.pyplot as plt"
   ]
  },
  {
   "cell_type": "code",
   "execution_count": 8,
   "metadata": {},
   "outputs": [],
   "source": [
    "a=[1,2,3,4,5,6,7,8]\n",
    "b=['A','B','C','D','E','F','G','H']"
   ]
  },
  {
   "cell_type": "markdown",
   "metadata": {},
   "source": [
    "### 차트로 만들기"
   ]
  },
  {
   "cell_type": "code",
   "execution_count": 14,
   "metadata": {},
   "outputs": [
    {
     "data": {
      "text/plain": [
       "<BarContainer object of 8 artists>"
      ]
     },
     "execution_count": 14,
     "metadata": {},
     "output_type": "execute_result"
    },
    {
     "data": {
      "image/png": "[encoded data removed]",
      "text/plain": [
       "<Figure size 432x288 with 1 Axes>"
      ]
     },
     "metadata": {
      "needs_background": "light"
     },
     "output_type": "display_data"
    }
   ],
   "source": [
    "plt.bar(b,a, color='pink')"
   ]
  },
  {
   "cell_type": "code",
   "execution_count": 15,
   "metadata": {},
   "outputs": [
    {
     "data": {
      "text/plain": [
       "<BarContainer object of 8 artists>"
      ]
     },
     "execution_count": 15,
     "metadata": {},
     "output_type": "execute_result"
    },
    {
     "data": {
      "image/png": "[encoded data removed]",
      "text/plain": [
       "<Figure size 432x288 with 1 Axes>"
      ]
     },
     "metadata": {
      "needs_background": "light"
     },
     "output_type": "display_data"
    }
   ],
   "source": [
    "plt.barh(b,a, color='pink')"
   ]
  },
  {
   "cell_type": "code",
   "execution_count": 26,
   "metadata": {
    "scrolled": true
   },
   "outputs": [
    {
     "data": {
      "text/plain": [
       "<matplotlib.legend.Legend at 0x16ec0ea38c8>"
      ]
     },
     "execution_count": 26,
     "metadata": {},
     "output_type": "execute_result"
    },
    {
     "data": {
      "image/png": "[encoded data removed]",
      "text/plain": [
       "<Figure size 432x288 with 1 Axes>"
      ]
     },
     "metadata": {
      "needs_background": "light"
     },
     "output_type": "display_data"
    }
   ],
   "source": [
    "plt.plot(b,a, color='pink')\n",
    "plt.title('subject')\n",
    "plt.xlabel('school')\n",
    "plt.ylabel('score')\n",
    "plt.legend(['Rabbit'])"
   ]
  },
  {
   "cell_type": "markdown",
   "metadata": {},
   "source": [
    "### 한글 나타내기"
   ]
  },
  {
   "cell_type": "code",
   "execution_count": 30,
   "metadata": {},
   "outputs": [],
   "source": [
    "from matplotlib import rc\n",
    "rc('font', family='batang')"
   ]
  },
  {
   "cell_type": "code",
   "execution_count": 31,
   "metadata": {},
   "outputs": [
    {
     "data": {
      "text/plain": [
       "<matplotlib.legend.Legend at 0x16ec0f26988>"
      ]
     },
     "execution_count": 31,
     "metadata": {},
     "output_type": "execute_result"
    },
    {
     "data": {
      "image/png": "[encoded data removed]",
      "text/plain": [
       "<Figure size 432x288 with 1 Axes>"
      ]
     },
     "metadata": {
      "needs_background": "light"
     },
     "output_type": "display_data"
    }
   ],
   "source": [
    "plt.plot(b,a, color='pink')\n",
    "plt.title('과목')\n",
    "plt.xlabel('학교')\n",
    "plt.ylabel('점수')\n",
    "plt.legend(['토끼'])"
   ]
  },
  {
   "cell_type": "markdown",
   "metadata": {},
   "source": [
    "### 수행평가"
   ]
  },
  {
   "cell_type": "markdown",
   "metadata": {},
   "source": [
    "#### 파일 가져오기-데이터 프레임으로 나타내기-상위 5개만 t라는 데이터 프레임 만들기-차트만들기"
   ]
  },
  {
   "cell_type": "raw",
   "metadata": {},
   "source": [
    "a=['이름']\n",
    "b=['수학']"
   ]
  },
  {
   "cell_type": "code",
   "execution_count": 32,
   "metadata": {},
   "outputs": [],
   "source": [
    "import pandas as pd"
   ]
  },
  {
   "cell_type": "code",
   "execution_count": 38,
   "metadata": {},
   "outputs": [
    {
     "data": {
      "text/html": [
       "<div>\n",
       "<style scoped>\n",
       "    .dataframe tbody tr th:only-of-type {\n",
       "        vertical-align: middle;\n",
       "    }\n",
       "\n",
       "    .dataframe tbody tr th {\n",
       "        vertical-align: top;\n",
       "    }\n",
       "\n",
       "    .dataframe thead th {\n",
       "        text-align: right;\n",
       "    }\n",
       "</style>\n",
       "<table border=\"1\" class=\"dataframe\">\n",
       "  <thead>\n",
       "    <tr style=\"text-align: right;\">\n",
       "      <th></th>\n",
       "      <th>출신고교</th>\n",
       "      <th>학번</th>\n",
       "      <th>이름</th>\n",
       "      <th>국어</th>\n",
       "      <th>수학</th>\n",
       "      <th>영어</th>\n",
       "      <th>과탐1</th>\n",
       "      <th>과탐2</th>\n",
       "    </tr>\n",
       "  </thead>\n",
       "  <tbody>\n",
       "    <tr>\n",
       "      <td>0</td>\n",
       "      <td>G</td>\n",
       "      <td>30701</td>\n",
       "      <td>정우성</td>\n",
       "      <td>92</td>\n",
       "      <td>92</td>\n",
       "      <td>80</td>\n",
       "      <td>36</td>\n",
       "      <td>47</td>\n",
       "    </tr>\n",
       "    <tr>\n",
       "      <td>1</td>\n",
       "      <td>G</td>\n",
       "      <td>30702</td>\n",
       "      <td>주진모</td>\n",
       "      <td>58</td>\n",
       "      <td>22</td>\n",
       "      <td>64</td>\n",
       "      <td>32</td>\n",
       "      <td>26</td>\n",
       "    </tr>\n",
       "    <tr>\n",
       "      <td>2</td>\n",
       "      <td>G</td>\n",
       "      <td>30703</td>\n",
       "      <td>최불암</td>\n",
       "      <td>23</td>\n",
       "      <td>21</td>\n",
       "      <td>21</td>\n",
       "      <td>18</td>\n",
       "      <td>20</td>\n",
       "    </tr>\n",
       "    <tr>\n",
       "      <td>3</td>\n",
       "      <td>G</td>\n",
       "      <td>30704</td>\n",
       "      <td>최수종</td>\n",
       "      <td>65</td>\n",
       "      <td>38</td>\n",
       "      <td>53</td>\n",
       "      <td>39</td>\n",
       "      <td>32</td>\n",
       "    </tr>\n",
       "    <tr>\n",
       "      <td>4</td>\n",
       "      <td>G</td>\n",
       "      <td>30705</td>\n",
       "      <td>하정우</td>\n",
       "      <td>51</td>\n",
       "      <td>62</td>\n",
       "      <td>81</td>\n",
       "      <td>27</td>\n",
       "      <td>34</td>\n",
       "    </tr>\n",
       "    <tr>\n",
       "      <td>5</td>\n",
       "      <td>G</td>\n",
       "      <td>30706</td>\n",
       "      <td>김준호</td>\n",
       "      <td>64</td>\n",
       "      <td>37</td>\n",
       "      <td>44</td>\n",
       "      <td>30</td>\n",
       "      <td>30</td>\n",
       "    </tr>\n",
       "    <tr>\n",
       "      <td>6</td>\n",
       "      <td>G</td>\n",
       "      <td>30707</td>\n",
       "      <td>김혜자</td>\n",
       "      <td>90</td>\n",
       "      <td>50</td>\n",
       "      <td>69</td>\n",
       "      <td>30</td>\n",
       "      <td>30</td>\n",
       "    </tr>\n",
       "    <tr>\n",
       "      <td>7</td>\n",
       "      <td>G</td>\n",
       "      <td>30708</td>\n",
       "      <td>데프콘</td>\n",
       "      <td>71</td>\n",
       "      <td>24</td>\n",
       "      <td>84</td>\n",
       "      <td>32</td>\n",
       "      <td>12</td>\n",
       "    </tr>\n",
       "    <tr>\n",
       "      <td>8</td>\n",
       "      <td>G</td>\n",
       "      <td>30709</td>\n",
       "      <td>박나래</td>\n",
       "      <td>80</td>\n",
       "      <td>73</td>\n",
       "      <td>80</td>\n",
       "      <td>37</td>\n",
       "      <td>38</td>\n",
       "    </tr>\n",
       "    <tr>\n",
       "      <td>9</td>\n",
       "      <td>G</td>\n",
       "      <td>30710</td>\n",
       "      <td>박수홍</td>\n",
       "      <td>81</td>\n",
       "      <td>88</td>\n",
       "      <td>80</td>\n",
       "      <td>45</td>\n",
       "      <td>48</td>\n",
       "    </tr>\n",
       "    <tr>\n",
       "      <td>10</td>\n",
       "      <td>G</td>\n",
       "      <td>30711</td>\n",
       "      <td>서장훈</td>\n",
       "      <td>91</td>\n",
       "      <td>77</td>\n",
       "      <td>84</td>\n",
       "      <td>30</td>\n",
       "      <td>30</td>\n",
       "    </tr>\n",
       "    <tr>\n",
       "      <td>11</td>\n",
       "      <td>G</td>\n",
       "      <td>30712</td>\n",
       "      <td>송승헌</td>\n",
       "      <td>70</td>\n",
       "      <td>47</td>\n",
       "      <td>82</td>\n",
       "      <td>32</td>\n",
       "      <td>30</td>\n",
       "    </tr>\n",
       "    <tr>\n",
       "      <td>12</td>\n",
       "      <td>G</td>\n",
       "      <td>30713</td>\n",
       "      <td>양세찬</td>\n",
       "      <td>69</td>\n",
       "      <td>24</td>\n",
       "      <td>50</td>\n",
       "      <td>34</td>\n",
       "      <td>8</td>\n",
       "    </tr>\n",
       "    <tr>\n",
       "      <td>13</td>\n",
       "      <td>G</td>\n",
       "      <td>30714</td>\n",
       "      <td>유병재</td>\n",
       "      <td>72</td>\n",
       "      <td>89</td>\n",
       "      <td>73</td>\n",
       "      <td>41</td>\n",
       "      <td>38</td>\n",
       "    </tr>\n",
       "    <tr>\n",
       "      <td>14</td>\n",
       "      <td>G</td>\n",
       "      <td>30715</td>\n",
       "      <td>이경규</td>\n",
       "      <td>58</td>\n",
       "      <td>41</td>\n",
       "      <td>63</td>\n",
       "      <td>21</td>\n",
       "      <td>18</td>\n",
       "    </tr>\n",
       "    <tr>\n",
       "      <td>15</td>\n",
       "      <td>G</td>\n",
       "      <td>30716</td>\n",
       "      <td>이광수</td>\n",
       "      <td>64</td>\n",
       "      <td>58</td>\n",
       "      <td>59</td>\n",
       "      <td>31</td>\n",
       "      <td>27</td>\n",
       "    </tr>\n",
       "    <tr>\n",
       "      <td>16</td>\n",
       "      <td>G</td>\n",
       "      <td>30717</td>\n",
       "      <td>이연희</td>\n",
       "      <td>78</td>\n",
       "      <td>22</td>\n",
       "      <td>84</td>\n",
       "      <td>40</td>\n",
       "      <td>48</td>\n",
       "    </tr>\n",
       "    <tr>\n",
       "      <td>17</td>\n",
       "      <td>G</td>\n",
       "      <td>30718</td>\n",
       "      <td>전인화</td>\n",
       "      <td>90</td>\n",
       "      <td>73</td>\n",
       "      <td>79</td>\n",
       "      <td>40</td>\n",
       "      <td>38</td>\n",
       "    </tr>\n",
       "    <tr>\n",
       "      <td>18</td>\n",
       "      <td>G</td>\n",
       "      <td>30719</td>\n",
       "      <td>정윤희</td>\n",
       "      <td>57</td>\n",
       "      <td>64</td>\n",
       "      <td>59</td>\n",
       "      <td>27</td>\n",
       "      <td>29</td>\n",
       "    </tr>\n",
       "    <tr>\n",
       "      <td>19</td>\n",
       "      <td>G</td>\n",
       "      <td>30720</td>\n",
       "      <td>한진희</td>\n",
       "      <td>79</td>\n",
       "      <td>58</td>\n",
       "      <td>83</td>\n",
       "      <td>41</td>\n",
       "      <td>40</td>\n",
       "    </tr>\n",
       "    <tr>\n",
       "      <td>20</td>\n",
       "      <td>G</td>\n",
       "      <td>30721</td>\n",
       "      <td>김현주</td>\n",
       "      <td>95</td>\n",
       "      <td>77</td>\n",
       "      <td>68</td>\n",
       "      <td>45</td>\n",
       "      <td>42</td>\n",
       "    </tr>\n",
       "    <tr>\n",
       "      <td>21</td>\n",
       "      <td>G</td>\n",
       "      <td>30722</td>\n",
       "      <td>하지원</td>\n",
       "      <td>98</td>\n",
       "      <td>94</td>\n",
       "      <td>91</td>\n",
       "      <td>45</td>\n",
       "      <td>45</td>\n",
       "    </tr>\n",
       "    <tr>\n",
       "      <td>22</td>\n",
       "      <td>G</td>\n",
       "      <td>30723</td>\n",
       "      <td>고수</td>\n",
       "      <td>61</td>\n",
       "      <td>19</td>\n",
       "      <td>71</td>\n",
       "      <td>29</td>\n",
       "      <td>18</td>\n",
       "    </tr>\n",
       "    <tr>\n",
       "      <td>23</td>\n",
       "      <td>G</td>\n",
       "      <td>30724</td>\n",
       "      <td>고현정</td>\n",
       "      <td>84</td>\n",
       "      <td>39</td>\n",
       "      <td>80</td>\n",
       "      <td>44</td>\n",
       "      <td>39</td>\n",
       "    </tr>\n",
       "    <tr>\n",
       "      <td>24</td>\n",
       "      <td>G</td>\n",
       "      <td>30726</td>\n",
       "      <td>김지미</td>\n",
       "      <td>77</td>\n",
       "      <td>11</td>\n",
       "      <td>76</td>\n",
       "      <td>26</td>\n",
       "      <td>16</td>\n",
       "    </tr>\n",
       "    <tr>\n",
       "      <td>25</td>\n",
       "      <td>G</td>\n",
       "      <td>30727</td>\n",
       "      <td>김하늘</td>\n",
       "      <td>73</td>\n",
       "      <td>26</td>\n",
       "      <td>55</td>\n",
       "      <td>31</td>\n",
       "      <td>30</td>\n",
       "    </tr>\n",
       "    <tr>\n",
       "      <td>26</td>\n",
       "      <td>G</td>\n",
       "      <td>30728</td>\n",
       "      <td>노주현</td>\n",
       "      <td>71</td>\n",
       "      <td>40</td>\n",
       "      <td>94</td>\n",
       "      <td>34</td>\n",
       "      <td>30</td>\n",
       "    </tr>\n",
       "    <tr>\n",
       "      <td>27</td>\n",
       "      <td>G</td>\n",
       "      <td>30729</td>\n",
       "      <td>문희</td>\n",
       "      <td>65</td>\n",
       "      <td>35</td>\n",
       "      <td>62</td>\n",
       "      <td>35</td>\n",
       "      <td>25</td>\n",
       "    </tr>\n",
       "    <tr>\n",
       "      <td>28</td>\n",
       "      <td>G</td>\n",
       "      <td>30730</td>\n",
       "      <td>박명수</td>\n",
       "      <td>80</td>\n",
       "      <td>59</td>\n",
       "      <td>81</td>\n",
       "      <td>32</td>\n",
       "      <td>45</td>\n",
       "    </tr>\n",
       "    <tr>\n",
       "      <td>29</td>\n",
       "      <td>G</td>\n",
       "      <td>30731</td>\n",
       "      <td>송일국</td>\n",
       "      <td>85</td>\n",
       "      <td>83</td>\n",
       "      <td>86</td>\n",
       "      <td>41</td>\n",
       "      <td>41</td>\n",
       "    </tr>\n",
       "    <tr>\n",
       "      <td>30</td>\n",
       "      <td>G</td>\n",
       "      <td>30732</td>\n",
       "      <td>유동근</td>\n",
       "      <td>58</td>\n",
       "      <td>32</td>\n",
       "      <td>67</td>\n",
       "      <td>14</td>\n",
       "      <td>12</td>\n",
       "    </tr>\n",
       "    <tr>\n",
       "      <td>31</td>\n",
       "      <td>G</td>\n",
       "      <td>30733</td>\n",
       "      <td>이국주</td>\n",
       "      <td>79</td>\n",
       "      <td>62</td>\n",
       "      <td>98</td>\n",
       "      <td>27</td>\n",
       "      <td>15</td>\n",
       "    </tr>\n",
       "  </tbody>\n",
       "</table>\n",
       "</div>"
      ],
      "text/plain": [
       "   출신고교     학번   이름  국어  수학  영어  과탐1  과탐2\n",
       "0     G  30701  정우성  92  92  80   36   47\n",
       "1     G  30702  주진모  58  22  64   32   26\n",
       "2     G  30703  최불암  23  21  21   18   20\n",
       "3     G  30704  최수종  65  38  53   39   32\n",
       "4     G  30705  하정우  51  62  81   27   34\n",
       "5     G  30706  김준호  64  37  44   30   30\n",
       "6     G  30707  김혜자  90  50  69   30   30\n",
       "7     G  30708  데프콘  71  24  84   32   12\n",
       "8     G  30709  박나래  80  73  80   37   38\n",
       "9     G  30710  박수홍  81  88  80   45   48\n",
       "10    G  30711  서장훈  91  77  84   30   30\n",
       "11    G  30712  송승헌  70  47  82   32   30\n",
       "12    G  30713  양세찬  69  24  50   34    8\n",
       "13    G  30714  유병재  72  89  73   41   38\n",
       "14    G  30715  이경규  58  41  63   21   18\n",
       "15    G  30716  이광수  64  58  59   31   27\n",
       "16    G  30717  이연희  78  22  84   40   48\n",
       "17    G  30718  전인화  90  73  79   40   38\n",
       "18    G  30719  정윤희  57  64  59   27   29\n",
       "19    G  30720  한진희  79  58  83   41   40\n",
       "20    G  30721  김현주  95  77  68   45   42\n",
       "21    G  30722  하지원  98  94  91   45   45\n",
       "22    G  30723   고수  61  19  71   29   18\n",
       "23    G  30724  고현정  84  39  80   44   39\n",
       "24    G  30726  김지미  77  11  76   26   16\n",
       "25    G  30727  김하늘  73  26  55   31   30\n",
       "26    G  30728  노주현  71  40  94   34   30\n",
       "27    G  30729   문희  65  35  62   35   25\n",
       "28    G  30730  박명수  80  59  81   32   45\n",
       "29    G  30731  송일국  85  83  86   41   41\n",
       "30    G  30732  유동근  58  32  67   14   12\n",
       "31    G  30733  이국주  79  62  98   27   15"
      ]
     },
     "execution_count": 38,
     "metadata": {},
     "output_type": "execute_result"
    }
   ],
   "source": [
    "path = r'C:\\Users\\user\\Desktop\\G.csv'\n",
    "pd.read_csv(path, encoding='cp949')\n",
    "df=pd.read_csv(path, encoding='cp949')\n",
    "df"
   ]
  },
  {
   "cell_type": "code",
   "execution_count": 55,
   "metadata": {
    "scrolled": true
   },
   "outputs": [
    {
     "data": {
      "text/html": [
       "<div>\n",
       "<style scoped>\n",
       "    .dataframe tbody tr th:only-of-type {\n",
       "        vertical-align: middle;\n",
       "    }\n",
       "\n",
       "    .dataframe tbody tr th {\n",
       "        vertical-align: top;\n",
       "    }\n",
       "\n",
       "    .dataframe thead th {\n",
       "        text-align: right;\n",
       "    }\n",
       "</style>\n",
       "<table border=\"1\" class=\"dataframe\">\n",
       "  <thead>\n",
       "    <tr style=\"text-align: right;\">\n",
       "      <th></th>\n",
       "      <th>출신고교</th>\n",
       "      <th>학번</th>\n",
       "      <th>이름</th>\n",
       "      <th>국어</th>\n",
       "      <th>수학</th>\n",
       "      <th>영어</th>\n",
       "      <th>과탐1</th>\n",
       "      <th>과탐2</th>\n",
       "    </tr>\n",
       "  </thead>\n",
       "  <tbody>\n",
       "    <tr>\n",
       "      <td>0</td>\n",
       "      <td>G</td>\n",
       "      <td>30701</td>\n",
       "      <td>정우성</td>\n",
       "      <td>92</td>\n",
       "      <td>92</td>\n",
       "      <td>80</td>\n",
       "      <td>36</td>\n",
       "      <td>47</td>\n",
       "    </tr>\n",
       "    <tr>\n",
       "      <td>1</td>\n",
       "      <td>G</td>\n",
       "      <td>30702</td>\n",
       "      <td>주진모</td>\n",
       "      <td>58</td>\n",
       "      <td>22</td>\n",
       "      <td>64</td>\n",
       "      <td>32</td>\n",
       "      <td>26</td>\n",
       "    </tr>\n",
       "    <tr>\n",
       "      <td>2</td>\n",
       "      <td>G</td>\n",
       "      <td>30703</td>\n",
       "      <td>최불암</td>\n",
       "      <td>23</td>\n",
       "      <td>21</td>\n",
       "      <td>21</td>\n",
       "      <td>18</td>\n",
       "      <td>20</td>\n",
       "    </tr>\n",
       "    <tr>\n",
       "      <td>3</td>\n",
       "      <td>G</td>\n",
       "      <td>30704</td>\n",
       "      <td>최수종</td>\n",
       "      <td>65</td>\n",
       "      <td>38</td>\n",
       "      <td>53</td>\n",
       "      <td>39</td>\n",
       "      <td>32</td>\n",
       "    </tr>\n",
       "    <tr>\n",
       "      <td>4</td>\n",
       "      <td>G</td>\n",
       "      <td>30705</td>\n",
       "      <td>하정우</td>\n",
       "      <td>51</td>\n",
       "      <td>62</td>\n",
       "      <td>81</td>\n",
       "      <td>27</td>\n",
       "      <td>34</td>\n",
       "    </tr>\n",
       "  </tbody>\n",
       "</table>\n",
       "</div>"
      ],
      "text/plain": [
       "  출신고교     학번   이름  국어  수학  영어  과탐1  과탐2\n",
       "0    G  30701  정우성  92  92  80   36   47\n",
       "1    G  30702  주진모  58  22  64   32   26\n",
       "2    G  30703  최불암  23  21  21   18   20\n",
       "3    G  30704  최수종  65  38  53   39   32\n",
       "4    G  30705  하정우  51  62  81   27   34"
      ]
     },
     "execution_count": 55,
     "metadata": {},
     "output_type": "execute_result"
    }
   ],
   "source": [
    "t=df.head(5)\n",
    "t"
   ]
  },
  {
   "cell_type": "code",
   "execution_count": 57,
   "metadata": {},
   "outputs": [],
   "source": [
    "a=t['이름']"
   ]
  },
  {
   "cell_type": "code",
   "execution_count": 58,
   "metadata": {},
   "outputs": [],
   "source": [
    "b=t['수학']"
   ]
  },
  {
   "cell_type": "code",
   "execution_count": 59,
   "metadata": {},
   "outputs": [],
   "source": [
    "from matplotlib import rc\n",
    "rc('font', family='batang')"
   ]
  },
  {
   "cell_type": "code",
   "execution_count": 67,
   "metadata": {
    "scrolled": false
   },
   "outputs": [
    {
     "data": {
      "text/plain": [
       "<matplotlib.legend.Legend at 0x16ec317d448>"
      ]
     },
     "execution_count": 67,
     "metadata": {},
     "output_type": "execute_result"
    },
    {
     "data": {
      "image/png": "[encoded data removed]",
      "text/plain": [
       "<Figure size 432x288 with 1 Axes>"
      ]
     },
     "metadata": {
      "needs_background": "light"
     },
     "output_type": "display_data"
    }
   ],
   "source": [
    "plt.plot(a,b, color='pink')\n",
    "plt.title('수학')\n",
    "plt.xlabel('이름')\n",
    "plt.ylabel('점수')\n",
    "plt.legend(['.'])"
   ]
  }
 ],
 "metadata": {
  "kernelspec": {
   "display_name": "Python 3",
   "language": "python",
   "name": "python3"
  },
  "language_info": {
   "codemirror_mode": {
    "name": "ipython",
    "version": 3
   },
   "file_extension": ".py",
   "mimetype": "text/x-python",
   "name": "python",
   "nbconvert_exporter": "python",
   "pygments_lexer": "ipython3",
   "version": "3.7.4"
  }
 },
 "nbformat": 4,
 "nbformat_minor": 2
}
