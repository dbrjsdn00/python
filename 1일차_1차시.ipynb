{
  "nbformat": 4,
  "nbformat_minor": 0,
  "metadata": {
    "colab": {
      "name": "1일차_1차시.ipynb",
      "provenance": [],
      "collapsed_sections": [],
      "authorship_tag": "ABX9TyOqK1dmiowxd1jMvbf3tUhv",
      "include_colab_link": true
    },
    "kernelspec": {
      "name": "python3",
      "display_name": "Python 3"
    }
  },
  "cells": [
    {
      "cell_type": "markdown",
      "metadata": {
        "id": "view-in-github",
        "colab_type": "text"
      },
      "source": [
        "<a href=\"https://colab.research.google.com/github/dbrjsdn00/python/blob/master/1%EC%9D%BC%EC%B0%A8_1%EC%B0%A8%EC%8B%9C.ipynb\" target=\"_parent\"><img src=\"https://colab.research.google.com/assets/colab-badge.svg\" alt=\"Open In Colab\"/></a>"
      ]
    },
    {
      "cell_type": "markdown",
      "metadata": {
        "id": "jEsZ7r7P3Nyw",
        "colab_type": "text"
      },
      "source": [
        "**1일차 1차시 출력문 작성내용**\n",
        "\n",
        "--------\n",
        "1.   개발환경 설치\n",
        "2. 출력문 작성\n",
        "--------"
      ]
    },
    {
      "cell_type": "code",
      "metadata": {
        "id": "Bp80HS7E3lWp",
        "colab_type": "code",
        "outputId": "1f484f95-1e50-4876-b759-e3d9aba1f33c",
        "colab": {
          "base_uri": "https://localhost:8080/",
          "height": 35
        }
      },
      "source": [
        "print('인천정보산업고')"
      ],
      "execution_count": 0,
      "outputs": [
        {
          "output_type": "stream",
          "text": [
            "인천정보산업고\n"
          ],
          "name": "stdout"
        }
      ]
    },
    {
      "cell_type": "code",
      "metadata": {
        "id": "evQ1GeL05suZ",
        "colab_type": "code",
        "colab": {}
      },
      "source": [
        ""
      ],
      "execution_count": 0,
      "outputs": []
    },
    {
      "cell_type": "code",
      "metadata": {
        "id": "tKdRmDLM35Jb",
        "colab_type": "code",
        "outputId": "7cc4eaed-be92-47f4-9c68-840644d1674a",
        "colab": {
          "base_uri": "https://localhost:8080/",
          "height": 136
        }
      },
      "source": [
        "1 a=1\n",
        "2 b=2\n",
        "3 a\n",
        "4 b\n",
        "5 print(a, b)"
      ],
      "execution_count": 0,
      "outputs": [
        {
          "output_type": "error",
          "ename": "SyntaxError",
          "evalue": "ignored",
          "traceback": [
            "\u001b[0;36m  File \u001b[0;32m\"<ipython-input-1-7ac573c7210f>\"\u001b[0;36m, line \u001b[0;32m1\u001b[0m\n\u001b[0;31m    1 a=1\u001b[0m\n\u001b[0m      ^\u001b[0m\n\u001b[0;31mSyntaxError\u001b[0m\u001b[0;31m:\u001b[0m invalid syntax\n"
          ]
        }
      ]
    },
    {
      "cell_type": "code",
      "metadata": {
        "id": "wvEtd-Rj4QaI",
        "colab_type": "code",
        "outputId": "2e0de153-dfbc-441e-c85c-3f7e394a3f1f",
        "colab": {
          "base_uri": "https://localhost:8080/",
          "height": 35
        }
      },
      "source": [
        "print('싸움 좋아', 3)"
      ],
      "execution_count": 0,
      "outputs": [
        {
          "output_type": "stream",
          "text": [
            "싸움 좋아 3\n"
          ],
          "name": "stdout"
        }
      ]
    },
    {
      "cell_type": "code",
      "metadata": {
        "id": "w2mWFIvS4Su4",
        "colab_type": "code",
        "colab": {}
      },
      "source": [
        ""
      ],
      "execution_count": 0,
      "outputs": []
    },
    {
      "cell_type": "markdown",
      "metadata": {
        "id": "PokKmlPr4tBS",
        "colab_type": "text"
      },
      "source": [
        "**사칙연산**"
      ]
    },
    {
      "cell_type": "markdown",
      "metadata": {
        "id": "pVvNIgry62qf",
        "colab_type": "text"
      },
      "source": [
        "# +, -. *, **. /. //. %\n",
        "a=3. b=2\n",
        "a+b=5"
      ]
    },
    {
      "cell_type": "code",
      "metadata": {
        "id": "pUwhnSr05B8p",
        "colab_type": "code",
        "outputId": "4965fdc5-4062-4391-cb6d-f6ce78f4607f",
        "colab": {
          "base_uri": "https://localhost:8080/",
          "height": 35
        }
      },
      "source": [
        "a=3\n",
        "b=2\n",
        "print('a+b=', a+b)"
      ],
      "execution_count": 0,
      "outputs": [
        {
          "output_type": "stream",
          "text": [
            "a+b= 5\n"
          ],
          "name": "stdout"
        }
      ]
    },
    {
      "cell_type": "code",
      "metadata": {
        "id": "T9zp_ljo8wfr",
        "colab_type": "code",
        "outputId": "e0b28c7e-c700-4f72-fbb2-87f238a4a6d7",
        "colab": {
          "base_uri": "https://localhost:8080/",
          "height": 35
        }
      },
      "source": [
        "a=3\n",
        "b=2\n",
        "print('a-b=', a-b)"
      ],
      "execution_count": 0,
      "outputs": [
        {
          "output_type": "stream",
          "text": [
            "a-b= 1\n"
          ],
          "name": "stdout"
        }
      ]
    },
    {
      "cell_type": "code",
      "metadata": {
        "id": "gCTfko7i81b2",
        "colab_type": "code",
        "outputId": "99267290-2725-40de-a33b-f6e932a47582",
        "colab": {
          "base_uri": "https://localhost:8080/",
          "height": 35
        }
      },
      "source": [
        "a=3\n",
        "b=2\n",
        "print('a*b=', a*b)"
      ],
      "execution_count": 0,
      "outputs": [
        {
          "output_type": "stream",
          "text": [
            "a*b= 6\n"
          ],
          "name": "stdout"
        }
      ]
    },
    {
      "cell_type": "code",
      "metadata": {
        "id": "LdwsF_PN9DdY",
        "colab_type": "code",
        "outputId": "003ac731-a835-43bd-f0de-1ed1059a9e21",
        "colab": {
          "base_uri": "https://localhost:8080/",
          "height": 35
        }
      },
      "source": [
        "a=3\n",
        "b=2\n",
        "print('a**b=', a**b)"
      ],
      "execution_count": 0,
      "outputs": [
        {
          "output_type": "stream",
          "text": [
            "a**b= 9\n"
          ],
          "name": "stdout"
        }
      ]
    },
    {
      "cell_type": "code",
      "metadata": {
        "id": "QdZOVCs384UA",
        "colab_type": "code",
        "outputId": "984b7b00-7e3a-46b7-a9a3-67e16abee99c",
        "colab": {
          "base_uri": "https://localhost:8080/",
          "height": 35
        }
      },
      "source": [
        "a=3\n",
        "b=2\n",
        "print('a/b=', a/b)"
      ],
      "execution_count": 0,
      "outputs": [
        {
          "output_type": "stream",
          "text": [
            "a/b= 1.5\n"
          ],
          "name": "stdout"
        }
      ]
    },
    {
      "cell_type": "code",
      "metadata": {
        "id": "ElJ6IJDl86_H",
        "colab_type": "code",
        "outputId": "850d9b76-c739-481f-8ae1-ce6f14e9f09d",
        "colab": {
          "base_uri": "https://localhost:8080/",
          "height": 35
        }
      },
      "source": [
        "a=3\n",
        "b=2\n",
        "print('a//b=', a//b)"
      ],
      "execution_count": 0,
      "outputs": [
        {
          "output_type": "stream",
          "text": [
            "a//b= 1\n"
          ],
          "name": "stdout"
        }
      ]
    },
    {
      "cell_type": "code",
      "metadata": {
        "id": "VZnNJb66887E",
        "colab_type": "code",
        "outputId": "5d145a10-6499-4579-c710-f57351a1654c",
        "colab": {
          "base_uri": "https://localhost:8080/",
          "height": 35
        }
      },
      "source": [
        "a=3\n",
        "b=2\n",
        "print('a%b=', a%b)"
      ],
      "execution_count": 0,
      "outputs": [
        {
          "output_type": "stream",
          "text": [
            "a%b= 1\n"
          ],
          "name": "stdout"
        }
      ]
    }
  ]
}