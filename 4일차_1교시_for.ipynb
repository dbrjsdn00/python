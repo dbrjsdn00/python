{
  "nbformat": 4,
  "nbformat_minor": 0,
  "metadata": {
    "colab": {
      "name": "4일차_1교시_for.ipynb",
      "provenance": [],
      "collapsed_sections": [],
      "authorship_tag": "ABX9TyN9k5SudUCXUdJBMew6QUbJ",
      "include_colab_link": true
    },
    "kernelspec": {
      "name": "python3",
      "display_name": "Python 3"
    }
  },
  "cells": [
    {
      "cell_type": "markdown",
      "metadata": {
        "id": "view-in-github",
        "colab_type": "text"
      },
      "source": [
        "<a href=\"https://colab.research.google.com/github/dbrjsdn00/python/blob/master/4%EC%9D%BC%EC%B0%A8_1%EA%B5%90%EC%8B%9C_for.ipynb\" target=\"_parent\"><img src=\"https://colab.research.google.com/assets/colab-badge.svg\" alt=\"Open In Colab\"/></a>"
      ]
    },
    {
      "cell_type": "markdown",
      "metadata": {
        "id": "aQsA3yiG624t",
        "colab_type": "text"
      },
      "source": [
        "**[학습목표]**\n",
        "\n",
        "1. list, range\n",
        "2. for문\n",
        "\n",
        "---\n",
        "\n"
      ]
    },
    {
      "cell_type": "code",
      "metadata": {
        "id": "kRWPA8ex7_Jl",
        "colab_type": "code",
        "colab": {
          "base_uri": "https://localhost:8080/",
          "height": 35
        },
        "outputId": "26bf159d-5455-4499-8902-17337ab32493"
      },
      "source": [
        "range(5)"
      ],
      "execution_count": 6,
      "outputs": [
        {
          "output_type": "execute_result",
          "data": {
            "text/plain": [
              "range(0, 5)"
            ]
          },
          "metadata": {
            "tags": []
          },
          "execution_count": 6
        }
      ]
    },
    {
      "cell_type": "code",
      "metadata": {
        "id": "Fa99BBXd8ZM8",
        "colab_type": "code",
        "colab": {
          "base_uri": "https://localhost:8080/",
          "height": 35
        },
        "outputId": "b69ac8e9-f905-4373-bb48-123601816a06"
      },
      "source": [
        "a=list(range(10,0,-2))\n",
        "a"
      ],
      "execution_count": 14,
      "outputs": [
        {
          "output_type": "execute_result",
          "data": {
            "text/plain": [
              "[10, 8, 6, 4, 2]"
            ]
          },
          "metadata": {
            "tags": []
          },
          "execution_count": 14
        }
      ]
    },
    {
      "cell_type": "code",
      "metadata": {
        "id": "yTrO_kbi9A6R",
        "colab_type": "code",
        "colab": {
          "base_uri": "https://localhost:8080/",
          "height": 35
        },
        "outputId": "9bd1055d-3397-4dca-f290-fa561a4271c5"
      },
      "source": [
        "type(a)"
      ],
      "execution_count": 17,
      "outputs": [
        {
          "output_type": "execute_result",
          "data": {
            "text/plain": [
              "list"
            ]
          },
          "metadata": {
            "tags": []
          },
          "execution_count": 17
        }
      ]
    },
    {
      "cell_type": "code",
      "metadata": {
        "id": "ZeR2SCHS9ER-",
        "colab_type": "code",
        "colab": {
          "base_uri": "https://localhost:8080/",
          "height": 35
        },
        "outputId": "5813f14f-27c6-4f4a-dbb6-c5b7af5aa2f4"
      },
      "source": [
        "for i in range(1,11):\n",
        "  print(i, end=' ')"
      ],
      "execution_count": 22,
      "outputs": [
        {
          "output_type": "stream",
          "text": [
            "1 2 3 4 5 6 7 8 9 10 "
          ],
          "name": "stdout"
        }
      ]
    },
    {
      "cell_type": "markdown",
      "metadata": {
        "id": "LqiyNfTF9l2B",
        "colab_type": "text"
      },
      "source": [
        "**[문제1]**\n",
        "for문을 이용해서 10부터 0까지 -2 출"
      ]
    },
    {
      "cell_type": "code",
      "metadata": {
        "id": "BgK9c7ls9vOF",
        "colab_type": "code",
        "colab": {
          "base_uri": "https://localhost:8080/",
          "height": 35
        },
        "outputId": "c3494a34-5ab3-4ca6-acc8-6d2135322984"
      },
      "source": [
        "for i in range(10,-2,-2):\n",
        "  print(i, end=' ')"
      ],
      "execution_count": 26,
      "outputs": [
        {
          "output_type": "stream",
          "text": [
            "10 8 6 4 2 0 "
          ],
          "name": "stdout"
        }
      ]
    },
    {
      "cell_type": "code",
      "metadata": {
        "id": "k9wvas9a-Ssz",
        "colab_type": "code",
        "colab": {
          "base_uri": "https://localhost:8080/",
          "height": 107
        },
        "outputId": "97691363-2693-4821-f61d-45f682ce0a84"
      },
      "source": [
        "a=[1.3, 2.1, 4.5, 5, 5.1]\n",
        "for i in a:\n",
        "  print(a)"
      ],
      "execution_count": 28,
      "outputs": [
        {
          "output_type": "stream",
          "text": [
            "[1.3, 2.1, 4.5, 5, 5.1]\n",
            "[1.3, 2.1, 4.5, 5, 5.1]\n",
            "[1.3, 2.1, 4.5, 5, 5.1]\n",
            "[1.3, 2.1, 4.5, 5, 5.1]\n",
            "[1.3, 2.1, 4.5, 5, 5.1]\n"
          ],
          "name": "stdout"
        }
      ]
    },
    {
      "cell_type": "code",
      "metadata": {
        "id": "TfdxmTUP-nD3",
        "colab_type": "code",
        "colab": {
          "base_uri": "https://localhost:8080/",
          "height": 107
        },
        "outputId": "6429722b-9209-4690-8448-cca730c5f638"
      },
      "source": [
        "a=[1.3, 2.1, 4.5, 5, 5.1]\n",
        "for i in range(len(a)):\n",
        "  print(a[i])"
      ],
      "execution_count": 31,
      "outputs": [
        {
          "output_type": "stream",
          "text": [
            "1.3\n",
            "2.1\n",
            "4.5\n",
            "5\n",
            "5.1\n"
          ],
          "name": "stdout"
        }
      ]
    },
    {
      "cell_type": "markdown",
      "metadata": {
        "id": "9D9xuEde_TYE",
        "colab_type": "text"
      },
      "source": [
        "**[문제2]**\n",
        "for문을 Hello Python1\n",
        "~\n",
        "Hello Python10 출력"
      ]
    },
    {
      "cell_type": "code",
      "metadata": {
        "id": "XLt5I_nr_sws",
        "colab_type": "code",
        "colab": {
          "base_uri": "https://localhost:8080/",
          "height": 197
        },
        "outputId": "40a81de4-bf47-42f7-bdab-4495ab1bb213"
      },
      "source": [
        "for i in range(1, 11) :\n",
        "  print('Hello Python', i)"
      ],
      "execution_count": 35,
      "outputs": [
        {
          "output_type": "stream",
          "text": [
            "Hello Python 1\n",
            "Hello Python 2\n",
            "Hello Python 3\n",
            "Hello Python 4\n",
            "Hello Python 5\n",
            "Hello Python 6\n",
            "Hello Python 7\n",
            "Hello Python 8\n",
            "Hello Python 9\n",
            "Hello Python 10\n"
          ],
          "name": "stdout"
        }
      ]
    },
    {
      "cell_type": "code",
      "metadata": {
        "id": "EbdxagxnAX0-",
        "colab_type": "code",
        "colab": {
          "base_uri": "https://localhost:8080/",
          "height": 53
        },
        "outputId": "ef3ee2f8-4cbc-4ac1-db79-887966841a05"
      },
      "source": [
        "count=int(input('몇번 반복? '))\n",
        "type(count)"
      ],
      "execution_count": 39,
      "outputs": [
        {
          "output_type": "stream",
          "text": [
            "몇번 반복? 3\n"
          ],
          "name": "stdout"
        },
        {
          "output_type": "execute_result",
          "data": {
            "text/plain": [
              "int"
            ]
          },
          "metadata": {
            "tags": []
          },
          "execution_count": 39
        }
      ]
    },
    {
      "cell_type": "code",
      "metadata": {
        "id": "is1_XY7iAoEb",
        "colab_type": "code",
        "colab": {
          "base_uri": "https://localhost:8080/",
          "height": 89
        },
        "outputId": "8e9abc02-022f-463b-f36d-32329f1ca65d"
      },
      "source": [
        "count=int(input('몇번반복?'))\n",
        "for i in range(count):\n",
        "  print('좋아', i+1)"
      ],
      "execution_count": 41,
      "outputs": [
        {
          "output_type": "stream",
          "text": [
            "몇번반복?3\n",
            "좋아 1\n",
            "좋아 2\n",
            "좋아 3\n"
          ],
          "name": "stdout"
        }
      ]
    },
    {
      "cell_type": "code",
      "metadata": {
        "id": "veMSOMOdBATD",
        "colab_type": "code",
        "colab": {
          "base_uri": "https://localhost:8080/",
          "height": 53
        },
        "outputId": "6e1d773b-416c-4041-dd3b-1a1e3229dde0"
      },
      "source": [
        "a=list(map(int, (input('숫자 입력 ').split())))\n",
        "print(a)"
      ],
      "execution_count": 51,
      "outputs": [
        {
          "output_type": "stream",
          "text": [
            "숫자 입력 1 2 3 4\n",
            "[1, 2, 3, 4]\n"
          ],
          "name": "stdout"
        }
      ]
    },
    {
      "cell_type": "markdown",
      "metadata": {
        "id": "1X2126gzCegh",
        "colab_type": "text"
      },
      "source": [
        "**[문제3]**\n",
        "숫자 5개 입력 후 합"
      ]
    },
    {
      "cell_type": "code",
      "metadata": {
        "id": "Kw2uCs5sCkXG",
        "colab_type": "code",
        "colab": {
          "base_uri": "https://localhost:8080/",
          "height": 89
        },
        "outputId": "096996f2-ad96-4b3a-c641-1afc0c8f3a0f"
      },
      "source": [
        "a=list(map(int, (input('숫자 입력 ').split())))\n",
        "sum=0\n",
        "avg=0.0\n",
        "for i in range(len(a)):\n",
        "  sum+=a[i]\n",
        "  print(a[i], end=' ')\n",
        "print('\\n합계 ; ', sum)\n",
        "avg=sum/len(a)\n",
        "print('평균 : ', avg)"
      ],
      "execution_count": 65,
      "outputs": [
        {
          "output_type": "stream",
          "text": [
            "숫자 입력 1 2 3 4 5\n",
            "1 2 3 4 5 \n",
            "합계 ;  15\n",
            "평균 :  3.0\n"
          ],
          "name": "stdout"
        }
      ]
    }
  ]
}